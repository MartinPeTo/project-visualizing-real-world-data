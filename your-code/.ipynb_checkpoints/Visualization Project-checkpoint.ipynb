{
 "cells": [
  {
   "cell_type": "code",
   "execution_count": 1,
   "metadata": {},
   "outputs": [
    {
     "data": {
      "text/html": [
       "        <script type=\"text/javascript\">\n",
       "        window.PlotlyConfig = {MathJaxConfig: 'local'};\n",
       "        if (window.MathJax) {MathJax.Hub.Config({SVG: {font: \"STIX-Web\"}});}\n",
       "        if (typeof require !== 'undefined') {\n",
       "        require.undef(\"plotly\");\n",
       "        requirejs.config({\n",
       "            paths: {\n",
       "                'plotly': ['https://cdn.plot.ly/plotly-latest.min']\n",
       "            }\n",
       "        });\n",
       "        require(['plotly'], function(Plotly) {\n",
       "            window._Plotly = Plotly;\n",
       "        });\n",
       "        }\n",
       "        </script>\n",
       "        "
      ]
     },
     "metadata": {},
     "output_type": "display_data"
    }
   ],
   "source": [
    "#Importamos las librerias que utilizaremos:\n",
    "\n",
    "import json\n",
    "import requests\n",
    "import pandas as pd\n",
    "import numpy as np\n",
    "from pandas.io.json import json_normalize\n",
    "import matplotlib\n",
    "import matplotlib.pyplot as plt\n",
    "import seaborn as sns\n",
    "from ipywidgets import interact\n",
    "from IPython.display import display\n",
    "import cufflinks as cf\n",
    "cf.go_offline()\n",
    "cf.set_config_file(offline=False, world_readable=True)\n",
    "%matplotlib inline"
   ]
  },
  {
   "cell_type": "code",
   "execution_count": 2,
   "metadata": {
    "scrolled": true
   },
   "outputs": [
    {
     "name": "stderr",
     "output_type": "stream",
     "text": [
      "/home/martin/.local/lib/python3.6/site-packages/pandas/core/frame.py:7116: FutureWarning:\n",
      "\n",
      "Sorting because non-concatenation axis is not aligned. A future version\n",
      "of pandas will change to not sort by default.\n",
      "\n",
      "To accept the future behavior, pass 'sort=False'.\n",
      "\n",
      "To retain the current behavior and silence the warning, pass 'sort=True'.\n",
      "\n",
      "\n"
     ]
    },
    {
     "name": "stdout",
     "output_type": "stream",
     "text": [
      "(68, 6)\n"
     ]
    },
    {
     "data": {
      "text/html": [
       "<div>\n",
       "<style scoped>\n",
       "    .dataframe tbody tr th:only-of-type {\n",
       "        vertical-align: middle;\n",
       "    }\n",
       "\n",
       "    .dataframe tbody tr th {\n",
       "        vertical-align: top;\n",
       "    }\n",
       "\n",
       "    .dataframe thead th {\n",
       "        text-align: right;\n",
       "    }\n",
       "</style>\n",
       "<table border=\"1\" class=\"dataframe\">\n",
       "  <thead>\n",
       "    <tr style=\"text-align: right;\">\n",
       "      <th></th>\n",
       "      <th>Category</th>\n",
       "      <th>Avg_Visitors</th>\n",
       "      <th>Avg_Rating</th>\n",
       "      <th>Avg_votes</th>\n",
       "      <th>Most_Viewed</th>\n",
       "      <th>Range_Visitors</th>\n",
       "    </tr>\n",
       "  </thead>\n",
       "  <tbody>\n",
       "    <tr>\n",
       "      <th>0</th>\n",
       "      <td>Big Tits</td>\n",
       "      <td>5475354.260</td>\n",
       "      <td>79.377495</td>\n",
       "      <td>16028.415</td>\n",
       "      <td>15461269</td>\n",
       "      <td>12292293</td>\n",
       "    </tr>\n",
       "    <tr>\n",
       "      <th>1</th>\n",
       "      <td>Teens</td>\n",
       "      <td>4398840.045</td>\n",
       "      <td>79.766447</td>\n",
       "      <td>14048.720</td>\n",
       "      <td>12621014</td>\n",
       "      <td>10008029</td>\n",
       "    </tr>\n",
       "    <tr>\n",
       "      <th>2</th>\n",
       "      <td>Lesbian</td>\n",
       "      <td>1865039.450</td>\n",
       "      <td>81.354196</td>\n",
       "      <td>7189.540</td>\n",
       "      <td>7365047</td>\n",
       "      <td>6328618</td>\n",
       "    </tr>\n",
       "    <tr>\n",
       "      <th>3</th>\n",
       "      <td>Blowjob</td>\n",
       "      <td>2793860.870</td>\n",
       "      <td>79.919352</td>\n",
       "      <td>6856.265</td>\n",
       "      <td>26948859</td>\n",
       "      <td>25538251</td>\n",
       "    </tr>\n",
       "    <tr>\n",
       "      <th>4</th>\n",
       "      <td>Anal</td>\n",
       "      <td>3484108.995</td>\n",
       "      <td>80.266668</td>\n",
       "      <td>11671.495</td>\n",
       "      <td>15461269</td>\n",
       "      <td>13497126</td>\n",
       "    </tr>\n",
       "  </tbody>\n",
       "</table>\n",
       "</div>"
      ],
      "text/plain": [
       "   Category  Avg_Visitors  Avg_Rating  Avg_votes Most_Viewed Range_Visitors\n",
       "0  Big Tits   5475354.260   79.377495  16028.415    15461269       12292293\n",
       "1     Teens   4398840.045   79.766447  14048.720    12621014       10008029\n",
       "2   Lesbian   1865039.450   81.354196   7189.540     7365047        6328618\n",
       "3   Blowjob   2793860.870   79.919352   6856.265    26948859       25538251\n",
       "4      Anal   3484108.995   80.266668  11671.495    15461269       13497126"
      ]
     },
     "execution_count": 2,
     "metadata": {},
     "output_type": "execute_result"
    }
   ],
   "source": [
    "#Importamos los datos de la API de Redtube tal y como se hizo en el proyecto anterior:\n",
    "headers = {'User-Agent': 'Mozilla/5.0 (X11; Linux x86_64) AppleWebKit/537.36 (KHTML, like Gecko) Chrome/75.0.3770.100 Safari/537.36'}\n",
    "\n",
    "#Sacamos las categorias:\n",
    "category_url = 'https://api.redtube.com/?data=redtube.Categories.getCategoriesList&output=json'\n",
    "category_response = requests.get(category_url,headers = headers)\n",
    "category_results = category_response.json()\n",
    "\n",
    "category_data = pd.DataFrame(category_results['categories'])\n",
    "\n",
    "#La función de extraer datos  segun URL:\n",
    "\n",
    "def chilltime(category = None, page = None, search = None, tags = None, stars = None, ordering = None, period = None):\n",
    "    url = 'https://api.redtube.com/?data=redtube.Videos.searchVideos&output=json'\n",
    "    if category != None:\n",
    "        url = url + '&category=' + category\n",
    "    if page != None:\n",
    "        url = url + '&page=' + str(page)\n",
    "    if search != None:\n",
    "        url = url + '&search=' + search\n",
    "    if tags != None:\n",
    "        url = url + '&tags[]=' + str(tags)\n",
    "    if stars != None:\n",
    "        url = url + '&stars[]=' + str(stars)\n",
    "    if ordering in ['newest', 'mostviewed', 'rating']:\n",
    "        url = url + '&ordering=' + ordering\n",
    "        if period in ['weekly', 'monthly', 'alltime']:\n",
    "            url = url + '&period=' + period\n",
    "    response = requests.get(url,headers = headers)\n",
    "    results = response.json()\n",
    "    redt = pd.DataFrame(results)\n",
    "    flattened_redt =  json_normalize(redt.videos)\n",
    "    redt_df = pd.DataFrame(flattened_redt)\n",
    "    redt_df.drop(['video.default_thumb','video.embed_url','video.thumb','video.thumbs'], axis=1, inplace=True)\n",
    "    redt_df.columns = ['Duracion', 'Visualizaciones', 'id', 'Rating', 'Votos', 'Titulo', 'URL', 'Fecha','Tags']\n",
    "    #Convertimos el rating a float:\n",
    "    redt_df['Rating']=pd.to_numeric(redt_df.Rating, errors='coerce')\n",
    "    redt_df['Votos']=pd.to_numeric(redt_df.Votos, errors='coerce')\n",
    "    redt_df['Visualizaciones']=pd.to_numeric(redt_df.Visualizaciones, errors='coerce')\n",
    "\n",
    "\n",
    "    return redt_df\n",
    "\n",
    "#Ahora sacamos los datos:\n",
    "columns_results = ['Category','Avg_Visitors','Avg_Rating','Avg_votes','Most_Viewed', 'Range_Visitors']\n",
    "results_df = pd.DataFrame(columns=columns_results)\n",
    "\n",
    "i = 0\n",
    "for cat in category_data.category:\n",
    "    columns = ['Duracion', 'Fecha', 'Rating', 'Votos', 'Tags', 'Titulo', 'URL', 'id', 'Visualizaciones']\n",
    "    df = pd.DataFrame(columns=columns) #Creamos un dataframe temporal\n",
    "    #Para cada categoria sacamos los datos en el DF temporal:\n",
    "    for pag in range (10):\n",
    "        df = df.append(chilltime(category = cat, page = pag, ordering = 'mostviewed'), ignore_index=True)\n",
    "    #Sacamos los valores que nos interesan de DF temporal\n",
    "    avg_visit = df['Visualizaciones'].mean()\n",
    "    avg_rating = df['Rating'].mean()\n",
    "    avg_votes = df['Votos'].mean()\n",
    "    most_view = df['Visualizaciones'].max()\n",
    "    range_visit = (df['Visualizaciones'].max()-df['Visualizaciones'].min())\n",
    "    #Añadimos los valores al dataframe que hemos creado:\n",
    "    results_df.loc[i]=[cat, avg_visit, avg_rating, avg_votes, most_view, range_visit]\n",
    "    i += 1\n",
    "\n",
    "print(results_df.shape)\n",
    "results_df.head()"
   ]
  },
  {
   "cell_type": "code",
   "execution_count": 3,
   "metadata": {},
   "outputs": [
    {
     "name": "stdout",
     "output_type": "stream",
     "text": [
      "<class 'pandas.core.frame.DataFrame'>\n",
      "Int64Index: 68 entries, 0 to 67\n",
      "Data columns (total 6 columns):\n",
      "Category          68 non-null object\n",
      "Avg_Visitors      68 non-null float64\n",
      "Avg_Rating        68 non-null float64\n",
      "Avg_votes         68 non-null float64\n",
      "Most_Viewed       68 non-null int64\n",
      "Range_Visitors    68 non-null int64\n",
      "dtypes: float64(3), int64(2), object(1)\n",
      "memory usage: 3.7+ KB\n"
     ]
    }
   ],
   "source": [
    "results_df['Most_Viewed']=pd.to_numeric(results_df.Most_Viewed, errors='coerce')\n",
    "results_df['Range_Visitors']=pd.to_numeric(results_df.Range_Visitors, errors='coerce')\n",
    "results_df.info()"
   ]
  },
  {
   "cell_type": "code",
   "execution_count": 4,
   "metadata": {},
   "outputs": [
    {
     "data": {
      "image/png": "[encoded data removed]",
      "text/plain": [
       "<Figure size 864x576 with 2 Axes>"
      ]
     },
     "metadata": {},
     "output_type": "display_data"
    }
   ],
   "source": [
    "#Como todas las columnas, menos la de categoría, son numéricas, creamos un heatmap.\n",
    "#Esto nos permitirá saber, de forma rápida, si existen relaciones entre los diferentes datos.\n",
    "\n",
    "sns.set(style=\"white\")\n",
    "#Creamos el dataframe con las correlaciones\n",
    "corr = results_df.corr(method='spearman')\n",
    "\n",
    "#Ocultamos la mitad superior\n",
    "mask = np.zeros_like(corr, dtype=np.bool)\n",
    "mask[np.triu_indices_from(mask)] = True\n",
    "\n",
    "#Creamos el grafico\n",
    "f, ax = plt.subplots(figsize=(12, 8))\n",
    "cmap = sns.diverging_palette(220, 10, as_cmap=True)\n",
    "sns.heatmap(corr, mask=mask, cmap=cmap, vmax=5, center=0,\n",
    "            square=True, linewidths=1, cbar_kws={\"shrink\": 1})\n",
    "\n",
    "plt.yticks(rotation=0)\n",
    "\n",
    "plt.show()"
   ]
  },
  {
   "cell_type": "markdown",
   "metadata": {},
   "source": [
    "El heatmap es bastante desolador. Los diferentes datos parecen no tener relacion entre ellos exceptuando, quizas, Avg_Votes con Avg_Visitors."
   ]
  },
  {
   "cell_type": "code",
   "execution_count": 5,
   "metadata": {},
   "outputs": [
    {
     "data": {
      "application/vnd.jupyter.widget-view+json": {
       "model_id": "b5edab9fcc4e45b5b2937f7874ce525a",
       "version_major": 2,
       "version_minor": 0
      },
      "text/plain": [
       "interactive(children=(IntSlider(value=14, description='bins', max=20, min=8), Output()), _dom_classes=('widget…"
      ]
     },
     "metadata": {},
     "output_type": "display_data"
    }
   ],
   "source": [
    "#Creamos un histograma viendo la cantidad de visitas en funcion del rating medio de la categoria:\n",
    "#Le añadimos un slider para determinar la precisión del gráfico\n",
    "\n",
    "@interact(bins = (8, 20))\n",
    "\n",
    "def hist(bins):\n",
    "    results_df['Avg_Rating'].iplot(kind='hist', bins=bins, title='Rating Distribution')"
   ]
  },
  {
   "cell_type": "markdown",
   "metadata": {},
   "source": [
    "Podemos ver que la gran mayoria de categorias están valoradas entre 79 y 80 sobre 100. Ademas ninguna menos de 69/100 ni más de 82/100. Esto nos permite ver que la valoración media de los videos de las categorias no es un factor muy determinante porque la mayoría tienen valoraciones muy similares."
   ]
  },
  {
   "cell_type": "code",
   "execution_count": 11,
   "metadata": {},
   "outputs": [
    {
     "data": {
      "application/vnd.plotly.v1+json": {
       "config": {
        "linkText": "Export to plot.ly",
        "plotlyServerURL": "https://plot.ly",
        "showLink": true
       },
       "data": [
        {
         "marker": {
          "color": "rgba(255, 153, 51, 1.0)",
          "line": {
           "width": 1.3
          },
          "opacity": 0.8,
          "size": 12,
          "symbol": "circle"
         },
         "mode": "markers",
         "name": "Amateur",
         "textfont": {
          "color": "#4D5663"
         },
         "type": "scatter",
         "uid": "288099a4-4e10-4314-91a5-611017eb5953",
         "x": [
          7342.965
         ],
         "y": [
          3213191.455
         ]
        },
        {
         "marker": {
          "color": "rgba(55, 128, 191, 1.0)",
          "line": {
           "width": 1.3
          },
          "opacity": 0.8,
          "size": 12,
          "symbol": "circle"
         },
         "mode": "markers",
         "name": "Anal",
         "textfont": {
          "color": "#4D5663"
         },
         "type": "scatter",
         "uid": "e5e335c1-e2db-4545-96ee-53e98195dcfb",
         "x": [
          11671.495
         ],
         "y": [
          3484108.995
         ]
        },
        {
         "marker": {
          "color": "rgba(50, 171, 96, 1.0)",
          "line": {
           "width": 1.3
          },
          "opacity": 0.8,
          "size": 12,
          "symbol": "circle"
         },
         "mode": "markers",
         "name": "Arab",
         "textfont": {
          "color": "#4D5663"
         },
         "type": "scatter",
         "uid": "4820af1f-2209-4005-b1be-a4b14fa8ef32",
         "x": [
          3408.668341708543
         ],
         "y": [
          928656.824120603
         ]
        },
        {
         "marker": {
          "color": "rgba(128, 0, 128, 1.0)",
          "line": {
           "width": 1.3
          },
          "opacity": 0.8,
          "size": 12,
          "symbol": "circle"
         },
         "mode": "markers",
         "name": "Asian",
         "textfont": {
          "color": "#4D5663"
         },
         "type": "scatter",
         "uid": "74ab32b5-780f-45dc-bf34-a9b0c265ff41",
         "x": [
          5190.94
         ],
         "y": [
          1590252.395
         ]
        },
        {
         "marker": {
          "color": "rgba(219, 64, 82, 1.0)",
          "line": {
           "width": 1.3
          },
          "opacity": 0.8,
          "size": 12,
          "symbol": "circle"
         },
         "mode": "markers",
         "name": "BBW",
         "textfont": {
          "color": "#4D5663"
         },
         "type": "scatter",
         "uid": "63858d1d-8b5c-4295-bdda-eafaff8090bd",
         "x": [
          1748.135
         ],
         "y": [
          542541.655
         ]
        },
        {
         "marker": {
          "color": "rgba(0, 128, 128, 1.0)",
          "line": {
           "width": 1.3
          },
          "opacity": 0.8,
          "size": 12,
          "symbol": "circle"
         },
         "mode": "markers",
         "name": "Big Ass",
         "textfont": {
          "color": "#4D5663"
         },
         "type": "scatter",
         "uid": "bcf0fee4-e361-4c1d-9d9c-612ea687683d",
         "x": [
          16028.415
         ],
         "y": [
          5475354.975
         ]
        },
        {
         "marker": {
          "color": "rgba(255, 255, 51, 1.0)",
          "line": {
           "width": 1.3
          },
          "opacity": 0.8,
          "size": 12,
          "symbol": "circle"
         },
         "mode": "markers",
         "name": "Big Dick",
         "textfont": {
          "color": "#4D5663"
         },
         "type": "scatter",
         "uid": "9fbdb28c-f5a8-4107-acdb-e0a44ab2fdee",
         "x": [
          16028.415
         ],
         "y": [
          5475355.32
         ]
        },
        {
         "marker": {
          "color": "rgba(128, 128, 0, 1.0)",
          "line": {
           "width": 1.3
          },
          "opacity": 0.8,
          "size": 12,
          "symbol": "circle"
         },
         "mode": "markers",
         "name": "Big Tits",
         "textfont": {
          "color": "#4D5663"
         },
         "type": "scatter",
         "uid": "8aa2d407-c8fd-4ff1-8193-24c5c41a35a2",
         "x": [
          16028.415
         ],
         "y": [
          5475354.26
         ]
        },
        {
         "marker": {
          "color": "rgba(251, 128, 114, 1.0)",
          "line": {
           "width": 1.3
          },
          "opacity": 0.8,
          "size": 12,
          "symbol": "circle"
         },
         "mode": "markers",
         "name": "Bisexual Male",
         "textfont": {
          "color": "#4D5663"
         },
         "type": "scatter",
         "uid": "aa50187f-b6f9-4957-a42e-d73129c0cbe2",
         "x": [
          1047.155
         ],
         "y": [
          298567.61
         ]
        },
        {
         "marker": {
          "color": "rgba(128, 177, 211, 1.0)",
          "line": {
           "width": 1.3
          },
          "opacity": 0.8,
          "size": 12,
          "symbol": "circle"
         },
         "mode": "markers",
         "name": "Blonde",
         "textfont": {
          "color": "#4D5663"
         },
         "type": "scatter",
         "uid": "2e741c56-babc-4aeb-93d6-4dcda8385573",
         "x": [
          12464.84
         ],
         "y": [
          4374009.675
         ]
        },
        {
         "marker": {
          "color": "rgba(128, 177, 211, 0.8999999999999999)",
          "line": {
           "width": 1.3
          },
          "opacity": 0.8,
          "size": 12,
          "symbol": "circle"
         },
         "mode": "markers",
         "name": "Blowjob",
         "textfont": {
          "color": "#4D5663"
         },
         "type": "scatter",
         "uid": "a268e56c-618b-40a5-b8a1-651032dd57f0",
         "x": [
          6856.265
         ],
         "y": [
          2793860.87
         ]
        },
        {
         "marker": {
          "color": "rgba(255, 153, 51, 0.8999999999999999)",
          "line": {
           "width": 1.3
          },
          "opacity": 0.8,
          "size": 12,
          "symbol": "circle"
         },
         "mode": "markers",
         "name": "Bondage",
         "textfont": {
          "color": "#4D5663"
         },
         "type": "scatter",
         "uid": "bfdd06fb-4fb1-4191-9346-1e3c845dae96",
         "x": [
          2479.06
         ],
         "y": [
          959119.86
         ]
        },
        {
         "marker": {
          "color": "rgba(55, 128, 191, 0.8999999999999999)",
          "line": {
           "width": 1.3
          },
          "opacity": 0.8,
          "size": 12,
          "symbol": "circle"
         },
         "mode": "markers",
         "name": "Brazilian",
         "textfont": {
          "color": "#4D5663"
         },
         "type": "scatter",
         "uid": "e7ce7c87-9265-4766-a50d-ef496103fba4",
         "x": [
          2114.795
         ],
         "y": [
          674258.2
         ]
        },
        {
         "marker": {
          "color": "rgba(50, 171, 96, 0.8999999999999999)",
          "line": {
           "width": 1.3
          },
          "opacity": 0.8,
          "size": 12,
          "symbol": "circle"
         },
         "mode": "markers",
         "name": "Brunette",
         "textfont": {
          "color": "#4D5663"
         },
         "type": "scatter",
         "uid": "149274fb-c28f-434a-96a9-cc85f39835ff",
         "x": [
          16919.005
         ],
         "y": [
          5492343.18
         ]
        },
        {
         "marker": {
          "color": "rgba(128, 0, 128, 0.8999999999999999)",
          "line": {
           "width": 1.3
          },
          "opacity": 0.8,
          "size": 12,
          "symbol": "circle"
         },
         "mode": "markers",
         "name": "Bukkake",
         "textfont": {
          "color": "#4D5663"
         },
         "type": "scatter",
         "uid": "7c96d3e6-d1ec-4e94-87fc-ad10fdfed23d",
         "x": [
          1218.2
         ],
         "y": [
          570378.06
         ]
        },
        {
         "marker": {
          "color": "rgba(219, 64, 82, 0.8999999999999999)",
          "line": {
           "width": 1.3
          },
          "opacity": 0.8,
          "size": 12,
          "symbol": "circle"
         },
         "mode": "markers",
         "name": "Cartoon",
         "textfont": {
          "color": "#4D5663"
         },
         "type": "scatter",
         "uid": "445a111a-ebc6-4087-ba26-218628a319cd",
         "x": [
          4196.27
         ],
         "y": [
          869674.835
         ]
        },
        {
         "marker": {
          "color": "rgba(0, 128, 128, 0.8999999999999999)",
          "line": {
           "width": 1.3
          },
          "opacity": 0.8,
          "size": 12,
          "symbol": "circle"
         },
         "mode": "markers",
         "name": "Casting",
         "textfont": {
          "color": "#4D5663"
         },
         "type": "scatter",
         "uid": "533421f0-9150-4b79-bb61-bc7d9c97a7da",
         "x": [
          2506.605
         ],
         "y": [
          1257842.635
         ]
        },
        {
         "marker": {
          "color": "rgba(255, 255, 51, 0.8999999999999999)",
          "line": {
           "width": 1.3
          },
          "opacity": 0.8,
          "size": 12,
          "symbol": "circle"
         },
         "mode": "markers",
         "name": "Celebrity",
         "textfont": {
          "color": "#4D5663"
         },
         "type": "scatter",
         "uid": "8e2e3f08-cb72-42e0-92ec-b66494acc1c6",
         "x": [
          2538.68
         ],
         "y": [
          771291.29
         ]
        },
        {
         "marker": {
          "color": "rgba(128, 128, 0, 0.8999999999999999)",
          "line": {
           "width": 1.3
          },
          "opacity": 0.8,
          "size": 12,
          "symbol": "circle"
         },
         "mode": "markers",
         "name": "College",
         "textfont": {
          "color": "#4D5663"
         },
         "type": "scatter",
         "uid": "33b18918-0423-40da-bce1-b3b4facb19b4",
         "x": [
          2609.965
         ],
         "y": [
          1323611.175
         ]
        },
        {
         "marker": {
          "color": "rgba(251, 128, 114, 0.8999999999999999)",
          "line": {
           "width": 1.3
          },
          "opacity": 0.8,
          "size": 12,
          "symbol": "circle"
         },
         "mode": "markers",
         "name": "Compilation",
         "textfont": {
          "color": "#4D5663"
         },
         "type": "scatter",
         "uid": "5280d690-0e87-4360-ab50-7e9158940587",
         "x": [
          3967.83
         ],
         "y": [
          1607708.74
         ]
        },
        {
         "marker": {
          "color": "rgba(251, 128, 114, 0.7999999999999998)",
          "line": {
           "width": 1.3
          },
          "opacity": 0.8,
          "size": 12,
          "symbol": "circle"
         },
         "mode": "markers",
         "name": "Cosplay",
         "textfont": {
          "color": "#4D5663"
         },
         "type": "scatter",
         "uid": "74a853e3-f824-4f75-8f7b-44ef078a978e",
         "x": [
          347.44
         ],
         "y": [
          145271.045
         ]
        },
        {
         "marker": {
          "color": "rgba(128, 177, 211, 0.7999999999999998)",
          "line": {
           "width": 1.3
          },
          "opacity": 0.8,
          "size": 12,
          "symbol": "circle"
         },
         "mode": "markers",
         "name": "Creampie",
         "textfont": {
          "color": "#4D5663"
         },
         "type": "scatter",
         "uid": "38799631-6476-428e-a3ac-560c4225959a",
         "x": [
          8535.175
         ],
         "y": [
          3103224.37
         ]
        },
        {
         "marker": {
          "color": "rgba(255, 153, 51, 0.7999999999999998)",
          "line": {
           "width": 1.3
          },
          "opacity": 0.8,
          "size": 12,
          "symbol": "circle"
         },
         "mode": "markers",
         "name": "Cumshot",
         "textfont": {
          "color": "#4D5663"
         },
         "type": "scatter",
         "uid": "d264faad-089b-4ae9-abdd-6a9d827c8a51",
         "x": [
          5700.495
         ],
         "y": [
          2173680.39
         ]
        },
        {
         "marker": {
          "color": "rgba(55, 128, 191, 0.7999999999999998)",
          "line": {
           "width": 1.3
          },
          "opacity": 0.8,
          "size": 12,
          "symbol": "circle"
         },
         "mode": "markers",
         "name": "Double Penetration",
         "textfont": {
          "color": "#4D5663"
         },
         "type": "scatter",
         "uid": "9e982af9-455e-4691-9f29-11736dfe10e5",
         "x": [
          5170.17
         ],
         "y": [
          1538615.74
         ]
        },
        {
         "marker": {
          "color": "rgba(50, 171, 96, 0.7999999999999998)",
          "line": {
           "width": 1.3
          },
          "opacity": 0.8,
          "size": 12,
          "symbol": "circle"
         },
         "mode": "markers",
         "name": "Ebony",
         "textfont": {
          "color": "#4D5663"
         },
         "type": "scatter",
         "uid": "535d5ad6-f193-4756-a74d-9cdf88b9f38b",
         "x": [
          5192.94
         ],
         "y": [
          1533846.41
         ]
        },
        {
         "marker": {
          "color": "rgba(128, 0, 128, 0.7999999999999998)",
          "line": {
           "width": 1.3
          },
          "opacity": 0.8,
          "size": 12,
          "symbol": "circle"
         },
         "mode": "markers",
         "name": "European",
         "textfont": {
          "color": "#4D5663"
         },
         "type": "scatter",
         "uid": "3b7cb316-bacd-4e13-9f74-e2da005eb9ed",
         "x": [
          4921.85
         ],
         "y": [
          1361042.89
         ]
        },
        {
         "marker": {
          "color": "rgba(219, 64, 82, 0.7999999999999998)",
          "line": {
           "width": 1.3
          },
          "opacity": 0.8,
          "size": 12,
          "symbol": "circle"
         },
         "mode": "markers",
         "name": "Facials",
         "textfont": {
          "color": "#4D5663"
         },
         "type": "scatter",
         "uid": "93acdb7f-7a82-4919-aa3d-d4c30588e995",
         "x": [
          10161.555
         ],
         "y": [
          3744164.54
         ]
        },
        {
         "marker": {
          "color": "rgba(0, 128, 128, 0.7999999999999998)",
          "line": {
           "width": 1.3
          },
          "opacity": 0.8,
          "size": 12,
          "symbol": "circle"
         },
         "mode": "markers",
         "name": "Feet",
         "textfont": {
          "color": "#4D5663"
         },
         "type": "scatter",
         "uid": "3222b7ff-c85f-431c-8657-0de01f27eab9",
         "x": [
          953.495
         ],
         "y": [
          347634.29
         ]
        },
        {
         "marker": {
          "color": "rgba(255, 255, 51, 0.7999999999999998)",
          "line": {
           "width": 1.3
          },
          "opacity": 0.8,
          "size": 12,
          "symbol": "circle"
         },
         "mode": "markers",
         "name": "Female Orgasm",
         "textfont": {
          "color": "#4D5663"
         },
         "type": "scatter",
         "uid": "74933b4c-35e2-473a-b04e-5b6e4e6782a4",
         "x": [
          2690.595
         ],
         "y": [
          1067561.65
         ]
        },
        {
         "marker": {
          "color": "rgba(128, 128, 0, 0.7999999999999998)",
          "line": {
           "width": 1.3
          },
          "opacity": 0.8,
          "size": 12,
          "symbol": "circle"
         },
         "mode": "markers",
         "name": "Fetish",
         "textfont": {
          "color": "#4D5663"
         },
         "type": "scatter",
         "uid": "34a8eccf-ce55-4d42-ba71-7280b5c8a411",
         "x": [
          3407.46
         ],
         "y": [
          1204746.09
         ]
        },
        {
         "marker": {
          "color": "rgba(128, 128, 0, 0.7)",
          "line": {
           "width": 1.3
          },
          "opacity": 0.8,
          "size": 12,
          "symbol": "circle"
         },
         "mode": "markers",
         "name": "French",
         "textfont": {
          "color": "#4D5663"
         },
         "type": "scatter",
         "uid": "2f67f3f8-ada1-4d84-883e-73776aecd6a2",
         "x": [
          1283.775
         ],
         "y": [
          489311.945
         ]
        },
        {
         "marker": {
          "color": "rgba(251, 128, 114, 0.7)",
          "line": {
           "width": 1.3
          },
          "opacity": 0.8,
          "size": 12,
          "symbol": "circle"
         },
         "mode": "markers",
         "name": "Funny",
         "textfont": {
          "color": "#4D5663"
         },
         "type": "scatter",
         "uid": "9cb5ed05-73ab-4156-82d9-79e8338f2374",
         "x": [
          2994.685
         ],
         "y": [
          691005.48
         ]
        },
        {
         "marker": {
          "color": "rgba(128, 177, 211, 0.7)",
          "line": {
           "width": 1.3
          },
          "opacity": 0.8,
          "size": 12,
          "symbol": "circle"
         },
         "mode": "markers",
         "name": "Gangbang",
         "textfont": {
          "color": "#4D5663"
         },
         "type": "scatter",
         "uid": "c785ec8a-98d3-43c9-a035-4574afaf0528",
         "x": [
          4269.96
         ],
         "y": [
          1519530.065
         ]
        },
        {
         "marker": {
          "color": "rgba(255, 153, 51, 0.7)",
          "line": {
           "width": 1.3
          },
          "opacity": 0.8,
          "size": 12,
          "symbol": "circle"
         },
         "mode": "markers",
         "name": "German",
         "textfont": {
          "color": "#4D5663"
         },
         "type": "scatter",
         "uid": "517e250d-4683-4283-9ded-6cd2b355deea",
         "x": [
          2163.22
         ],
         "y": [
          897967.005
         ]
        },
        {
         "marker": {
          "color": "rgba(55, 128, 191, 0.7)",
          "line": {
           "width": 1.3
          },
          "opacity": 0.8,
          "size": 12,
          "symbol": "circle"
         },
         "mode": "markers",
         "name": "Group",
         "textfont": {
          "color": "#4D5663"
         },
         "type": "scatter",
         "uid": "e4bf5976-e0c9-4986-b1f3-dd25d98741a9",
         "x": [
          8286.685
         ],
         "y": [
          3151207.52
         ]
        },
        {
         "marker": {
          "color": "rgba(50, 171, 96, 0.7)",
          "line": {
           "width": 1.3
          },
          "opacity": 0.8,
          "size": 12,
          "symbol": "circle"
         },
         "mode": "markers",
         "name": "HD",
         "textfont": {
          "color": "#4D5663"
         },
         "type": "scatter",
         "uid": "46bed4e6-d716-4307-8f0f-a506a44814cc",
         "x": [
          14612.7
         ],
         "y": [
          5590259.14
         ]
        },
        {
         "marker": {
          "color": "rgba(128, 0, 128, 0.7)",
          "line": {
           "width": 1.3
          },
          "opacity": 0.8,
          "size": 12,
          "symbol": "circle"
         },
         "mode": "markers",
         "name": "Hentai",
         "textfont": {
          "color": "#4D5663"
         },
         "type": "scatter",
         "uid": "8e45b188-3bfd-44f3-b3c1-635bdf6ee0ae",
         "x": [
          5042.225
         ],
         "y": [
          1055619.235
         ]
        },
        {
         "marker": {
          "color": "rgba(219, 64, 82, 0.7)",
          "line": {
           "width": 1.3
          },
          "opacity": 0.8,
          "size": 12,
          "symbol": "circle"
         },
         "mode": "markers",
         "name": "Indian",
         "textfont": {
          "color": "#4D5663"
         },
         "type": "scatter",
         "uid": "9c56eee9-2846-41d0-9d38-c16c61e5ff30",
         "x": [
          4201.93
         ],
         "y": [
          1084721.77
         ]
        },
        {
         "marker": {
          "color": "rgba(0, 128, 128, 0.7)",
          "line": {
           "width": 1.3
          },
          "opacity": 0.8,
          "size": 12,
          "symbol": "circle"
         },
         "mode": "markers",
         "name": "Interracial",
         "textfont": {
          "color": "#4D5663"
         },
         "type": "scatter",
         "uid": "9d04f940-2b41-4005-92ae-a045fe61a374",
         "x": [
          7551.68
         ],
         "y": [
          2392733.01
         ]
        },
        {
         "marker": {
          "color": "rgba(255, 255, 51, 0.7)",
          "line": {
           "width": 1.3
          },
          "opacity": 0.8,
          "size": 12,
          "symbol": "circle"
         },
         "mode": "markers",
         "name": "Japanese",
         "textfont": {
          "color": "#4D5663"
         },
         "type": "scatter",
         "uid": "56389b0e-985f-4a26-ac40-8a2c80705f00",
         "x": [
          4695.7
         ],
         "y": [
          1340380.82
         ]
        },
        {
         "marker": {
          "color": "rgba(255, 255, 51, 0.5999999999999999)",
          "line": {
           "width": 1.3
          },
          "opacity": 0.8,
          "size": 12,
          "symbol": "circle"
         },
         "mode": "markers",
         "name": "Latina",
         "textfont": {
          "color": "#4D5663"
         },
         "type": "scatter",
         "uid": "312d7ff3-d4f8-48ef-a2cb-c71d25acb32a",
         "x": [
          7081.5
         ],
         "y": [
          2121338.47
         ]
        },
        {
         "marker": {
          "color": "rgba(128, 128, 0, 0.5999999999999999)",
          "line": {
           "width": 1.3
          },
          "opacity": 0.8,
          "size": 12,
          "symbol": "circle"
         },
         "mode": "markers",
         "name": "Lesbian",
         "textfont": {
          "color": "#4D5663"
         },
         "type": "scatter",
         "uid": "eb1418d3-e560-450c-a0f7-e7ea65bedf36",
         "x": [
          7189.54
         ],
         "y": [
          1865039.45
         ]
        },
        {
         "marker": {
          "color": "rgba(251, 128, 114, 0.5999999999999999)",
          "line": {
           "width": 1.3
          },
          "opacity": 0.8,
          "size": 12,
          "symbol": "circle"
         },
         "mode": "markers",
         "name": "Lingerie",
         "textfont": {
          "color": "#4D5663"
         },
         "type": "scatter",
         "uid": "1479d1c4-f622-4daa-829a-06f24b833dfb",
         "x": [
          5837.86
         ],
         "y": [
          2358580.08
         ]
        },
        {
         "marker": {
          "color": "rgba(128, 177, 211, 0.5999999999999999)",
          "line": {
           "width": 1.3
          },
          "opacity": 0.8,
          "size": 12,
          "symbol": "circle"
         },
         "mode": "markers",
         "name": "MILF",
         "textfont": {
          "color": "#4D5663"
         },
         "type": "scatter",
         "uid": "7fd67249-66a5-46fa-80ee-06c3100cac37",
         "x": [
          10469.795
         ],
         "y": [
          3772816.28
         ]
        },
        {
         "marker": {
          "color": "rgba(255, 153, 51, 0.5999999999999999)",
          "line": {
           "width": 1.3
          },
          "opacity": 0.8,
          "size": 12,
          "symbol": "circle"
         },
         "mode": "markers",
         "name": "Massage",
         "textfont": {
          "color": "#4D5663"
         },
         "type": "scatter",
         "uid": "bc078314-9d0c-4743-be0a-7f46c82557e1",
         "x": [
          5097.69
         ],
         "y": [
          1852348.485
         ]
        },
        {
         "marker": {
          "color": "rgba(55, 128, 191, 0.5999999999999999)",
          "line": {
           "width": 1.3
          },
          "opacity": 0.8,
          "size": 12,
          "symbol": "circle"
         },
         "mode": "markers",
         "name": "Masturbation",
         "textfont": {
          "color": "#4D5663"
         },
         "type": "scatter",
         "uid": "ebe74536-98f8-48c9-bf49-a9eed32edf34",
         "x": [
          6109.39
         ],
         "y": [
          1613985.675
         ]
        },
        {
         "marker": {
          "color": "rgba(50, 171, 96, 0.5999999999999999)",
          "line": {
           "width": 1.3
          },
          "opacity": 0.8,
          "size": 12,
          "symbol": "circle"
         },
         "mode": "markers",
         "name": "Mature",
         "textfont": {
          "color": "#4D5663"
         },
         "type": "scatter",
         "uid": "06475d34-fa16-4ef1-b396-f9b0d8b0a3c7",
         "x": [
          4521.565
         ],
         "y": [
          1615497.655
         ]
        },
        {
         "marker": {
          "color": "rgba(128, 0, 128, 0.5999999999999999)",
          "line": {
           "width": 1.3
          },
          "opacity": 0.8,
          "size": 12,
          "symbol": "circle"
         },
         "mode": "markers",
         "name": "Orgy",
         "textfont": {
          "color": "#4D5663"
         },
         "type": "scatter",
         "uid": "db92df05-169b-4348-94c2-4fa28eff30a8",
         "x": [
          3999.135
         ],
         "y": [
          1420981.08
         ]
        },
        {
         "marker": {
          "color": "rgba(219, 64, 82, 0.5999999999999999)",
          "line": {
           "width": 1.3
          },
          "opacity": 0.8,
          "size": 12,
          "symbol": "circle"
         },
         "mode": "markers",
         "name": "POV",
         "textfont": {
          "color": "#4D5663"
         },
         "type": "scatter",
         "uid": "a17425b1-8156-4443-90c7-c7651ae6ff1b",
         "x": [
          12792.105
         ],
         "y": [
          4622195.95
         ]
        },
        {
         "marker": {
          "color": "rgba(0, 128, 128, 0.5999999999999999)",
          "line": {
           "width": 1.3
          },
          "opacity": 0.8,
          "size": 12,
          "symbol": "circle"
         },
         "mode": "markers",
         "name": "Party",
         "textfont": {
          "color": "#4D5663"
         },
         "type": "scatter",
         "uid": "504860fd-6599-489b-83d8-bc4d74bc4b67",
         "x": [
          2738.7688442211056
         ],
         "y": [
          1059259.7386934673
         ]
        },
        {
         "marker": {
          "color": "rgba(0, 128, 128, 0.49999999999999983)",
          "line": {
           "width": 1.3
          },
          "opacity": 0.8,
          "size": 12,
          "symbol": "circle"
         },
         "mode": "markers",
         "name": "Pissing",
         "textfont": {
          "color": "#4D5663"
         },
         "type": "scatter",
         "uid": "325c0a82-d93f-458c-8c33-0f59d4c3ec13",
         "x": [
          1766.48
         ],
         "y": [
          466962.515
         ]
        },
        {
         "marker": {
          "color": "rgba(255, 255, 51, 0.49999999999999983)",
          "line": {
           "width": 1.3
          },
          "opacity": 0.8,
          "size": 12,
          "symbol": "circle"
         },
         "mode": "markers",
         "name": "Public",
         "textfont": {
          "color": "#4D5663"
         },
         "type": "scatter",
         "uid": "654555c7-19f8-493d-9c8a-01666f99b26d",
         "x": [
          4449.28
         ],
         "y": [
          2047576.265
         ]
        },
        {
         "marker": {
          "color": "rgba(128, 128, 0, 0.49999999999999983)",
          "line": {
           "width": 1.3
          },
          "opacity": 0.8,
          "size": 12,
          "symbol": "circle"
         },
         "mode": "markers",
         "name": "Reality",
         "textfont": {
          "color": "#4D5663"
         },
         "type": "scatter",
         "uid": "6919e04e-103b-4af8-8d72-6be2947c3df5",
         "x": [
          2164.665
         ],
         "y": [
          932157.075
         ]
        },
        {
         "marker": {
          "color": "rgba(251, 128, 114, 0.49999999999999983)",
          "line": {
           "width": 1.3
          },
          "opacity": 0.8,
          "size": 12,
          "symbol": "circle"
         },
         "mode": "markers",
         "name": "Redhead",
         "textfont": {
          "color": "#4D5663"
         },
         "type": "scatter",
         "uid": "98676b6b-ef03-4336-8671-ba283bf5360e",
         "x": [
          4938.08
         ],
         "y": [
          1980645.645
         ]
        },
        {
         "marker": {
          "color": "rgba(128, 177, 211, 0.49999999999999983)",
          "line": {
           "width": 1.3
          },
          "opacity": 0.8,
          "size": 12,
          "symbol": "circle"
         },
         "mode": "markers",
         "name": "Romantic",
         "textfont": {
          "color": "#4D5663"
         },
         "type": "scatter",
         "uid": "6bb81dcd-557b-442a-aa74-5103dc65ac19",
         "x": [
          7859.705
         ],
         "y": [
          2628503.465
         ]
        },
        {
         "marker": {
          "color": "rgba(255, 153, 51, 0.49999999999999983)",
          "line": {
           "width": 1.3
          },
          "opacity": 0.8,
          "size": 12,
          "symbol": "circle"
         },
         "mode": "markers",
         "name": "Rough",
         "textfont": {
          "color": "#4D5663"
         },
         "type": "scatter",
         "uid": "344c199b-bf9d-412c-8478-bb1825047fd9",
         "x": [
          1697.185
         ],
         "y": [
          626023.415
         ]
        },
        {
         "marker": {
          "color": "rgba(55, 128, 191, 0.49999999999999983)",
          "line": {
           "width": 1.3
          },
          "opacity": 0.8,
          "size": 12,
          "symbol": "circle"
         },
         "mode": "markers",
         "name": "Solo Male",
         "textfont": {
          "color": "#4D5663"
         },
         "type": "scatter",
         "uid": "5233ba06-3308-435a-af43-499de5de809e",
         "x": [
          1047.155
         ],
         "y": [
          298567.605
         ]
        },
        {
         "marker": {
          "color": "rgba(50, 171, 96, 0.49999999999999983)",
          "line": {
           "width": 1.3
          },
          "opacity": 0.8,
          "size": 12,
          "symbol": "circle"
         },
         "mode": "markers",
         "name": "Squirting",
         "textfont": {
          "color": "#4D5663"
         },
         "type": "scatter",
         "uid": "3c64e0b3-03a2-4ef7-bb0f-349ee5c8f990",
         "x": [
          5596.99
         ],
         "y": [
          1790648.24
         ]
        },
        {
         "marker": {
          "color": "rgba(128, 0, 128, 0.49999999999999983)",
          "line": {
           "width": 1.3
          },
          "opacity": 0.8,
          "size": 12,
          "symbol": "circle"
         },
         "mode": "markers",
         "name": "Step Fantasy",
         "textfont": {
          "color": "#4D5663"
         },
         "type": "scatter",
         "uid": "44780276-83e8-4c44-a0aa-68a08d6f7a56",
         "x": [
          4121.965
         ],
         "y": [
          1750955.895
         ]
        },
        {
         "marker": {
          "color": "rgba(219, 64, 82, 0.49999999999999983)",
          "line": {
           "width": 1.3
          },
          "opacity": 0.8,
          "size": 12,
          "symbol": "circle"
         },
         "mode": "markers",
         "name": "Teens",
         "textfont": {
          "color": "#4D5663"
         },
         "type": "scatter",
         "uid": "2e2e7354-6f92-4558-bab1-4ac668430f67",
         "x": [
          14048.72
         ],
         "y": [
          4398840.045
         ]
        },
        {
         "marker": {
          "color": "rgba(219, 64, 82, 0.39999999999999974)",
          "line": {
           "width": 1.3
          },
          "opacity": 0.8,
          "size": 12,
          "symbol": "circle"
         },
         "mode": "markers",
         "name": "Threesome",
         "textfont": {
          "color": "#4D5663"
         },
         "type": "scatter",
         "uid": "2419d019-522a-485f-822c-fa38aad7f59d",
         "x": [
          7569.725
         ],
         "y": [
          2895014.8
         ]
        },
        {
         "marker": {
          "color": "rgba(0, 128, 128, 0.39999999999999974)",
          "line": {
           "width": 1.3
          },
          "opacity": 0.8,
          "size": 12,
          "symbol": "circle"
         },
         "mode": "markers",
         "name": "Toys",
         "textfont": {
          "color": "#4D5663"
         },
         "type": "scatter",
         "uid": "77a40d69-89f5-4260-8813-eb6e6c082cd4",
         "x": [
          6747.265
         ],
         "y": [
          1979479.285
         ]
        },
        {
         "marker": {
          "color": "rgba(255, 255, 51, 0.39999999999999974)",
          "line": {
           "width": 1.3
          },
          "opacity": 0.8,
          "size": 12,
          "symbol": "circle"
         },
         "mode": "markers",
         "name": "Transgender",
         "textfont": {
          "color": "#4D5663"
         },
         "type": "scatter",
         "uid": "77e3389a-6d38-484d-8e36-bd817664c8fe",
         "x": [
          2349.78
         ],
         "y": [
          583375.25
         ]
        },
        {
         "marker": {
          "color": "rgba(128, 128, 0, 0.39999999999999974)",
          "line": {
           "width": 1.3
          },
          "opacity": 0.8,
          "size": 12,
          "symbol": "circle"
         },
         "mode": "markers",
         "name": "Verified Amateurs",
         "textfont": {
          "color": "#4D5663"
         },
         "type": "scatter",
         "uid": "540460a0-2fb8-414f-b4a3-162d749cf673",
         "x": [
          7342.965
         ],
         "y": [
          3213192.12
         ]
        },
        {
         "marker": {
          "color": "rgba(251, 128, 114, 0.39999999999999974)",
          "line": {
           "width": 1.3
          },
          "opacity": 0.8,
          "size": 12,
          "symbol": "circle"
         },
         "mode": "markers",
         "name": "Vintage",
         "textfont": {
          "color": "#4D5663"
         },
         "type": "scatter",
         "uid": "b3f1473f-5ec8-4c63-b222-4906670593fa",
         "x": [
          1552.9095477386934
         ],
         "y": [
          571096.3467336684
         ]
        },
        {
         "marker": {
          "color": "rgba(128, 177, 211, 0.39999999999999974)",
          "line": {
           "width": 1.3
          },
          "opacity": 0.8,
          "size": 12,
          "symbol": "circle"
         },
         "mode": "markers",
         "name": "Virtual Reality",
         "textfont": {
          "color": "#4D5663"
         },
         "type": "scatter",
         "uid": "b176a8c6-200d-43e9-ad87-65d715b0a22f",
         "x": [
          2164.665
         ],
         "y": [
          932156.915
         ]
        },
        {
         "marker": {
          "color": "rgba(255, 153, 51, 0.39999999999999974)",
          "line": {
           "width": 1.3
          },
          "opacity": 0.8,
          "size": 12,
          "symbol": "circle"
         },
         "mode": "markers",
         "name": "Webcam",
         "textfont": {
          "color": "#4D5663"
         },
         "type": "scatter",
         "uid": "57edfa73-61c0-48b9-bcfe-f3044f768d87",
         "x": [
          4254.285
         ],
         "y": [
          1085215.855
         ]
        },
        {
         "marker": {
          "color": "rgba(55, 128, 191, 0.39999999999999974)",
          "line": {
           "width": 1.3
          },
          "opacity": 0.8,
          "size": 12,
          "symbol": "circle"
         },
         "mode": "markers",
         "name": "Young and Old",
         "textfont": {
          "color": "#4D5663"
         },
         "type": "scatter",
         "uid": "c49b1678-4d8b-4b20-bdf3-a3e510584747",
         "x": [
          3427.41
         ],
         "y": [
          1241184.08
         ]
        }
       ],
       "layout": {
        "legend": {
         "bgcolor": "#F5F6F9",
         "font": {
          "color": "#4D5663"
         }
        },
        "paper_bgcolor": "#F5F6F9",
        "plot_bgcolor": "#F5F6F9",
        "title": {
         "font": {
          "color": "#4D5663"
         },
         "text": "Relationship between average visitors and average votes for each category"
        },
        "xaxis": {
         "gridcolor": "#E1E5ED",
         "showgrid": true,
         "tickfont": {
          "color": "#4D5663"
         },
         "title": {
          "font": {
           "color": "#4D5663"
          },
          "text": "Avg_votes"
         },
         "zerolinecolor": "#E1E5ED"
        },
        "yaxis": {
         "gridcolor": "#E1E5ED",
         "showgrid": true,
         "tickfont": {
          "color": "#4D5663"
         },
         "title": {
          "font": {
           "color": "#4D5663"
          },
          "text": "Avg_Visitors"
         },
         "zerolinecolor": "#E1E5ED"
        }
       }
      },
      "text/html": [
       "<div>\n",
       "        \n",
       "        \n",
       "            <div id=\"0b019071-525b-4a44-b04e-a6d499dd3eac\" class=\"plotly-graph-div\" style=\"height:525px; width:100%;\"></div>\n",
       "            <script type=\"text/javascript\">\n",
       "                require([\"plotly\"], function(Plotly) {\n",
       "                    window.PLOTLYENV=window.PLOTLYENV || {};\n",
       "                    window.PLOTLYENV.BASE_URL='https://plot.ly';\n",
       "                    \n",
       "                if (document.getElementById(\"0b019071-525b-4a44-b04e-a6d499dd3eac\")) {\n",
       "                    Plotly.newPlot(\n",
       "                        '0b019071-525b-4a44-b04e-a6d499dd3eac',\n",
       "                        [{\"marker\": {\"color\": \"rgba(255, 153, 51, 1.0)\", \"line\": {\"width\": 1.3}, \"opacity\": 0.8, \"size\": 12, \"symbol\": \"circle\"}, \"mode\": \"markers\", \"name\": \"Amateur\", \"textfont\": {\"color\": \"#4D5663\"}, \"type\": \"scatter\", \"uid\": \"288099a4-4e10-4314-91a5-611017eb5953\", \"x\": [7342.965], \"y\": [3213191.455]}, {\"marker\": {\"color\": \"rgba(55, 128, 191, 1.0)\", \"line\": {\"width\": 1.3}, \"opacity\": 0.8, \"size\": 12, \"symbol\": \"circle\"}, \"mode\": \"markers\", \"name\": \"Anal\", \"textfont\": {\"color\": \"#4D5663\"}, \"type\": \"scatter\", \"uid\": \"e5e335c1-e2db-4545-96ee-53e98195dcfb\", \"x\": [11671.495], \"y\": [3484108.995]}, {\"marker\": {\"color\": \"rgba(50, 171, 96, 1.0)\", \"line\": {\"width\": 1.3}, \"opacity\": 0.8, \"size\": 12, \"symbol\": \"circle\"}, \"mode\": \"markers\", \"name\": \"Arab\", \"textfont\": {\"color\": \"#4D5663\"}, \"type\": \"scatter\", \"uid\": \"4820af1f-2209-4005-b1be-a4b14fa8ef32\", \"x\": [3408.668341708543], \"y\": [928656.824120603]}, {\"marker\": {\"color\": \"rgba(128, 0, 128, 1.0)\", \"line\": {\"width\": 1.3}, \"opacity\": 0.8, \"size\": 12, \"symbol\": \"circle\"}, \"mode\": \"markers\", \"name\": \"Asian\", \"textfont\": {\"color\": \"#4D5663\"}, \"type\": \"scatter\", \"uid\": \"74ab32b5-780f-45dc-bf34-a9b0c265ff41\", \"x\": [5190.94], \"y\": [1590252.395]}, {\"marker\": {\"color\": \"rgba(219, 64, 82, 1.0)\", \"line\": {\"width\": 1.3}, \"opacity\": 0.8, \"size\": 12, \"symbol\": \"circle\"}, \"mode\": \"markers\", \"name\": \"BBW\", \"textfont\": {\"color\": \"#4D5663\"}, \"type\": \"scatter\", \"uid\": \"63858d1d-8b5c-4295-bdda-eafaff8090bd\", \"x\": [1748.135], \"y\": [542541.655]}, {\"marker\": {\"color\": \"rgba(0, 128, 128, 1.0)\", \"line\": {\"width\": 1.3}, \"opacity\": 0.8, \"size\": 12, \"symbol\": \"circle\"}, \"mode\": \"markers\", \"name\": \"Big Ass\", \"textfont\": {\"color\": \"#4D5663\"}, \"type\": \"scatter\", \"uid\": \"bcf0fee4-e361-4c1d-9d9c-612ea687683d\", \"x\": [16028.415], \"y\": [5475354.975]}, {\"marker\": {\"color\": \"rgba(255, 255, 51, 1.0)\", \"line\": {\"width\": 1.3}, \"opacity\": 0.8, \"size\": 12, \"symbol\": \"circle\"}, \"mode\": \"markers\", \"name\": \"Big Dick\", \"textfont\": {\"color\": \"#4D5663\"}, \"type\": \"scatter\", \"uid\": \"9fbdb28c-f5a8-4107-acdb-e0a44ab2fdee\", \"x\": [16028.415], \"y\": [5475355.32]}, {\"marker\": {\"color\": \"rgba(128, 128, 0, 1.0)\", \"line\": {\"width\": 1.3}, \"opacity\": 0.8, \"size\": 12, \"symbol\": \"circle\"}, \"mode\": \"markers\", \"name\": \"Big Tits\", \"textfont\": {\"color\": \"#4D5663\"}, \"type\": \"scatter\", \"uid\": \"8aa2d407-c8fd-4ff1-8193-24c5c41a35a2\", \"x\": [16028.415], \"y\": [5475354.26]}, {\"marker\": {\"color\": \"rgba(251, 128, 114, 1.0)\", \"line\": {\"width\": 1.3}, \"opacity\": 0.8, \"size\": 12, \"symbol\": \"circle\"}, \"mode\": \"markers\", \"name\": \"Bisexual Male\", \"textfont\": {\"color\": \"#4D5663\"}, \"type\": \"scatter\", \"uid\": \"aa50187f-b6f9-4957-a42e-d73129c0cbe2\", \"x\": [1047.155], \"y\": [298567.61]}, {\"marker\": {\"color\": \"rgba(128, 177, 211, 1.0)\", \"line\": {\"width\": 1.3}, \"opacity\": 0.8, \"size\": 12, \"symbol\": \"circle\"}, \"mode\": \"markers\", \"name\": \"Blonde\", \"textfont\": {\"color\": \"#4D5663\"}, \"type\": \"scatter\", \"uid\": \"2e741c56-babc-4aeb-93d6-4dcda8385573\", \"x\": [12464.84], \"y\": [4374009.675]}, {\"marker\": {\"color\": \"rgba(128, 177, 211, 0.8999999999999999)\", \"line\": {\"width\": 1.3}, \"opacity\": 0.8, \"size\": 12, \"symbol\": \"circle\"}, \"mode\": \"markers\", \"name\": \"Blowjob\", \"textfont\": {\"color\": \"#4D5663\"}, \"type\": \"scatter\", \"uid\": \"a268e56c-618b-40a5-b8a1-651032dd57f0\", \"x\": [6856.265], \"y\": [2793860.87]}, {\"marker\": {\"color\": \"rgba(255, 153, 51, 0.8999999999999999)\", \"line\": {\"width\": 1.3}, \"opacity\": 0.8, \"size\": 12, \"symbol\": \"circle\"}, \"mode\": \"markers\", \"name\": \"Bondage\", \"textfont\": {\"color\": \"#4D5663\"}, \"type\": \"scatter\", \"uid\": \"bfdd06fb-4fb1-4191-9346-1e3c845dae96\", \"x\": [2479.06], \"y\": [959119.86]}, {\"marker\": {\"color\": \"rgba(55, 128, 191, 0.8999999999999999)\", \"line\": {\"width\": 1.3}, \"opacity\": 0.8, \"size\": 12, \"symbol\": \"circle\"}, \"mode\": \"markers\", \"name\": \"Brazilian\", \"textfont\": {\"color\": \"#4D5663\"}, \"type\": \"scatter\", \"uid\": \"e7ce7c87-9265-4766-a50d-ef496103fba4\", \"x\": [2114.795], \"y\": [674258.2]}, {\"marker\": {\"color\": \"rgba(50, 171, 96, 0.8999999999999999)\", \"line\": {\"width\": 1.3}, \"opacity\": 0.8, \"size\": 12, \"symbol\": \"circle\"}, \"mode\": \"markers\", \"name\": \"Brunette\", \"textfont\": {\"color\": \"#4D5663\"}, \"type\": \"scatter\", \"uid\": \"149274fb-c28f-434a-96a9-cc85f39835ff\", \"x\": [16919.005], \"y\": [5492343.18]}, {\"marker\": {\"color\": \"rgba(128, 0, 128, 0.8999999999999999)\", \"line\": {\"width\": 1.3}, \"opacity\": 0.8, \"size\": 12, \"symbol\": \"circle\"}, \"mode\": \"markers\", \"name\": \"Bukkake\", \"textfont\": {\"color\": \"#4D5663\"}, \"type\": \"scatter\", \"uid\": \"7c96d3e6-d1ec-4e94-87fc-ad10fdfed23d\", \"x\": [1218.2], \"y\": [570378.06]}, {\"marker\": {\"color\": \"rgba(219, 64, 82, 0.8999999999999999)\", \"line\": {\"width\": 1.3}, \"opacity\": 0.8, \"size\": 12, \"symbol\": \"circle\"}, \"mode\": \"markers\", \"name\": \"Cartoon\", \"textfont\": {\"color\": \"#4D5663\"}, \"type\": \"scatter\", \"uid\": \"445a111a-ebc6-4087-ba26-218628a319cd\", \"x\": [4196.27], \"y\": [869674.835]}, {\"marker\": {\"color\": \"rgba(0, 128, 128, 0.8999999999999999)\", \"line\": {\"width\": 1.3}, \"opacity\": 0.8, \"size\": 12, \"symbol\": \"circle\"}, \"mode\": \"markers\", \"name\": \"Casting\", \"textfont\": {\"color\": \"#4D5663\"}, \"type\": \"scatter\", \"uid\": \"533421f0-9150-4b79-bb61-bc7d9c97a7da\", \"x\": [2506.605], \"y\": [1257842.635]}, {\"marker\": {\"color\": \"rgba(255, 255, 51, 0.8999999999999999)\", \"line\": {\"width\": 1.3}, \"opacity\": 0.8, \"size\": 12, \"symbol\": \"circle\"}, \"mode\": \"markers\", \"name\": \"Celebrity\", \"textfont\": {\"color\": \"#4D5663\"}, \"type\": \"scatter\", \"uid\": \"8e2e3f08-cb72-42e0-92ec-b66494acc1c6\", \"x\": [2538.68], \"y\": [771291.29]}, {\"marker\": {\"color\": \"rgba(128, 128, 0, 0.8999999999999999)\", \"line\": {\"width\": 1.3}, \"opacity\": 0.8, \"size\": 12, \"symbol\": \"circle\"}, \"mode\": \"markers\", \"name\": \"College\", \"textfont\": {\"color\": \"#4D5663\"}, \"type\": \"scatter\", \"uid\": \"33b18918-0423-40da-bce1-b3b4facb19b4\", \"x\": [2609.965], \"y\": [1323611.175]}, {\"marker\": {\"color\": \"rgba(251, 128, 114, 0.8999999999999999)\", \"line\": {\"width\": 1.3}, \"opacity\": 0.8, \"size\": 12, \"symbol\": \"circle\"}, \"mode\": \"markers\", \"name\": \"Compilation\", \"textfont\": {\"color\": \"#4D5663\"}, \"type\": \"scatter\", \"uid\": \"5280d690-0e87-4360-ab50-7e9158940587\", \"x\": [3967.83], \"y\": [1607708.74]}, {\"marker\": {\"color\": \"rgba(251, 128, 114, 0.7999999999999998)\", \"line\": {\"width\": 1.3}, \"opacity\": 0.8, \"size\": 12, \"symbol\": \"circle\"}, \"mode\": \"markers\", \"name\": \"Cosplay\", \"textfont\": {\"color\": \"#4D5663\"}, \"type\": \"scatter\", \"uid\": \"74a853e3-f824-4f75-8f7b-44ef078a978e\", \"x\": [347.44], \"y\": [145271.045]}, {\"marker\": {\"color\": \"rgba(128, 177, 211, 0.7999999999999998)\", \"line\": {\"width\": 1.3}, \"opacity\": 0.8, \"size\": 12, \"symbol\": \"circle\"}, \"mode\": \"markers\", \"name\": \"Creampie\", \"textfont\": {\"color\": \"#4D5663\"}, \"type\": \"scatter\", \"uid\": \"38799631-6476-428e-a3ac-560c4225959a\", \"x\": [8535.175], \"y\": [3103224.37]}, {\"marker\": {\"color\": \"rgba(255, 153, 51, 0.7999999999999998)\", \"line\": {\"width\": 1.3}, \"opacity\": 0.8, \"size\": 12, \"symbol\": \"circle\"}, \"mode\": \"markers\", \"name\": \"Cumshot\", \"textfont\": {\"color\": \"#4D5663\"}, \"type\": \"scatter\", \"uid\": \"d264faad-089b-4ae9-abdd-6a9d827c8a51\", \"x\": [5700.495], \"y\": [2173680.39]}, {\"marker\": {\"color\": \"rgba(55, 128, 191, 0.7999999999999998)\", \"line\": {\"width\": 1.3}, \"opacity\": 0.8, \"size\": 12, \"symbol\": \"circle\"}, \"mode\": \"markers\", \"name\": \"Double Penetration\", \"textfont\": {\"color\": \"#4D5663\"}, \"type\": \"scatter\", \"uid\": \"9e982af9-455e-4691-9f29-11736dfe10e5\", \"x\": [5170.17], \"y\": [1538615.74]}, {\"marker\": {\"color\": \"rgba(50, 171, 96, 0.7999999999999998)\", \"line\": {\"width\": 1.3}, \"opacity\": 0.8, \"size\": 12, \"symbol\": \"circle\"}, \"mode\": \"markers\", \"name\": \"Ebony\", \"textfont\": {\"color\": \"#4D5663\"}, \"type\": \"scatter\", \"uid\": \"535d5ad6-f193-4756-a74d-9cdf88b9f38b\", \"x\": [5192.94], \"y\": [1533846.41]}, {\"marker\": {\"color\": \"rgba(128, 0, 128, 0.7999999999999998)\", \"line\": {\"width\": 1.3}, \"opacity\": 0.8, \"size\": 12, \"symbol\": \"circle\"}, \"mode\": \"markers\", \"name\": \"European\", \"textfont\": {\"color\": \"#4D5663\"}, \"type\": \"scatter\", \"uid\": \"3b7cb316-bacd-4e13-9f74-e2da005eb9ed\", \"x\": [4921.85], \"y\": [1361042.89]}, {\"marker\": {\"color\": \"rgba(219, 64, 82, 0.7999999999999998)\", \"line\": {\"width\": 1.3}, \"opacity\": 0.8, \"size\": 12, \"symbol\": \"circle\"}, \"mode\": \"markers\", \"name\": \"Facials\", \"textfont\": {\"color\": \"#4D5663\"}, \"type\": \"scatter\", \"uid\": \"93acdb7f-7a82-4919-aa3d-d4c30588e995\", \"x\": [10161.555], \"y\": [3744164.54]}, {\"marker\": {\"color\": \"rgba(0, 128, 128, 0.7999999999999998)\", \"line\": {\"width\": 1.3}, \"opacity\": 0.8, \"size\": 12, \"symbol\": \"circle\"}, \"mode\": \"markers\", \"name\": \"Feet\", \"textfont\": {\"color\": \"#4D5663\"}, \"type\": \"scatter\", \"uid\": \"3222b7ff-c85f-431c-8657-0de01f27eab9\", \"x\": [953.495], \"y\": [347634.29]}, {\"marker\": {\"color\": \"rgba(255, 255, 51, 0.7999999999999998)\", \"line\": {\"width\": 1.3}, \"opacity\": 0.8, \"size\": 12, \"symbol\": \"circle\"}, \"mode\": \"markers\", \"name\": \"Female Orgasm\", \"textfont\": {\"color\": \"#4D5663\"}, \"type\": \"scatter\", \"uid\": \"74933b4c-35e2-473a-b04e-5b6e4e6782a4\", \"x\": [2690.595], \"y\": [1067561.65]}, {\"marker\": {\"color\": \"rgba(128, 128, 0, 0.7999999999999998)\", \"line\": {\"width\": 1.3}, \"opacity\": 0.8, \"size\": 12, \"symbol\": \"circle\"}, \"mode\": \"markers\", \"name\": \"Fetish\", \"textfont\": {\"color\": \"#4D5663\"}, \"type\": \"scatter\", \"uid\": \"34a8eccf-ce55-4d42-ba71-7280b5c8a411\", \"x\": [3407.46], \"y\": [1204746.09]}, {\"marker\": {\"color\": \"rgba(128, 128, 0, 0.7)\", \"line\": {\"width\": 1.3}, \"opacity\": 0.8, \"size\": 12, \"symbol\": \"circle\"}, \"mode\": \"markers\", \"name\": \"French\", \"textfont\": {\"color\": \"#4D5663\"}, \"type\": \"scatter\", \"uid\": \"2f67f3f8-ada1-4d84-883e-73776aecd6a2\", \"x\": [1283.775], \"y\": [489311.945]}, {\"marker\": {\"color\": \"rgba(251, 128, 114, 0.7)\", \"line\": {\"width\": 1.3}, \"opacity\": 0.8, \"size\": 12, \"symbol\": \"circle\"}, \"mode\": \"markers\", \"name\": \"Funny\", \"textfont\": {\"color\": \"#4D5663\"}, \"type\": \"scatter\", \"uid\": \"9cb5ed05-73ab-4156-82d9-79e8338f2374\", \"x\": [2994.685], \"y\": [691005.48]}, {\"marker\": {\"color\": \"rgba(128, 177, 211, 0.7)\", \"line\": {\"width\": 1.3}, \"opacity\": 0.8, \"size\": 12, \"symbol\": \"circle\"}, \"mode\": \"markers\", \"name\": \"Gangbang\", \"textfont\": {\"color\": \"#4D5663\"}, \"type\": \"scatter\", \"uid\": \"c785ec8a-98d3-43c9-a035-4574afaf0528\", \"x\": [4269.96], \"y\": [1519530.065]}, {\"marker\": {\"color\": \"rgba(255, 153, 51, 0.7)\", \"line\": {\"width\": 1.3}, \"opacity\": 0.8, \"size\": 12, \"symbol\": \"circle\"}, \"mode\": \"markers\", \"name\": \"German\", \"textfont\": {\"color\": \"#4D5663\"}, \"type\": \"scatter\", \"uid\": \"517e250d-4683-4283-9ded-6cd2b355deea\", \"x\": [2163.22], \"y\": [897967.005]}, {\"marker\": {\"color\": \"rgba(55, 128, 191, 0.7)\", \"line\": {\"width\": 1.3}, \"opacity\": 0.8, \"size\": 12, \"symbol\": \"circle\"}, \"mode\": \"markers\", \"name\": \"Group\", \"textfont\": {\"color\": \"#4D5663\"}, \"type\": \"scatter\", \"uid\": \"e4bf5976-e0c9-4986-b1f3-dd25d98741a9\", \"x\": [8286.685], \"y\": [3151207.52]}, {\"marker\": {\"color\": \"rgba(50, 171, 96, 0.7)\", \"line\": {\"width\": 1.3}, \"opacity\": 0.8, \"size\": 12, \"symbol\": \"circle\"}, \"mode\": \"markers\", \"name\": \"HD\", \"textfont\": {\"color\": \"#4D5663\"}, \"type\": \"scatter\", \"uid\": \"46bed4e6-d716-4307-8f0f-a506a44814cc\", \"x\": [14612.7], \"y\": [5590259.14]}, {\"marker\": {\"color\": \"rgba(128, 0, 128, 0.7)\", \"line\": {\"width\": 1.3}, \"opacity\": 0.8, \"size\": 12, \"symbol\": \"circle\"}, \"mode\": \"markers\", \"name\": \"Hentai\", \"textfont\": {\"color\": \"#4D5663\"}, \"type\": \"scatter\", \"uid\": \"8e45b188-3bfd-44f3-b3c1-635bdf6ee0ae\", \"x\": [5042.225], \"y\": [1055619.235]}, {\"marker\": {\"color\": \"rgba(219, 64, 82, 0.7)\", \"line\": {\"width\": 1.3}, \"opacity\": 0.8, \"size\": 12, \"symbol\": \"circle\"}, \"mode\": \"markers\", \"name\": \"Indian\", \"textfont\": {\"color\": \"#4D5663\"}, \"type\": \"scatter\", \"uid\": \"9c56eee9-2846-41d0-9d38-c16c61e5ff30\", \"x\": [4201.93], \"y\": [1084721.77]}, {\"marker\": {\"color\": \"rgba(0, 128, 128, 0.7)\", \"line\": {\"width\": 1.3}, \"opacity\": 0.8, \"size\": 12, \"symbol\": \"circle\"}, \"mode\": \"markers\", \"name\": \"Interracial\", \"textfont\": {\"color\": \"#4D5663\"}, \"type\": \"scatter\", \"uid\": \"9d04f940-2b41-4005-92ae-a045fe61a374\", \"x\": [7551.68], \"y\": [2392733.01]}, {\"marker\": {\"color\": \"rgba(255, 255, 51, 0.7)\", \"line\": {\"width\": 1.3}, \"opacity\": 0.8, \"size\": 12, \"symbol\": \"circle\"}, \"mode\": \"markers\", \"name\": \"Japanese\", \"textfont\": {\"color\": \"#4D5663\"}, \"type\": \"scatter\", \"uid\": \"56389b0e-985f-4a26-ac40-8a2c80705f00\", \"x\": [4695.7], \"y\": [1340380.82]}, {\"marker\": {\"color\": \"rgba(255, 255, 51, 0.5999999999999999)\", \"line\": {\"width\": 1.3}, \"opacity\": 0.8, \"size\": 12, \"symbol\": \"circle\"}, \"mode\": \"markers\", \"name\": \"Latina\", \"textfont\": {\"color\": \"#4D5663\"}, \"type\": \"scatter\", \"uid\": \"312d7ff3-d4f8-48ef-a2cb-c71d25acb32a\", \"x\": [7081.5], \"y\": [2121338.47]}, {\"marker\": {\"color\": \"rgba(128, 128, 0, 0.5999999999999999)\", \"line\": {\"width\": 1.3}, \"opacity\": 0.8, \"size\": 12, \"symbol\": \"circle\"}, \"mode\": \"markers\", \"name\": \"Lesbian\", \"textfont\": {\"color\": \"#4D5663\"}, \"type\": \"scatter\", \"uid\": \"eb1418d3-e560-450c-a0f7-e7ea65bedf36\", \"x\": [7189.54], \"y\": [1865039.45]}, {\"marker\": {\"color\": \"rgba(251, 128, 114, 0.5999999999999999)\", \"line\": {\"width\": 1.3}, \"opacity\": 0.8, \"size\": 12, \"symbol\": \"circle\"}, \"mode\": \"markers\", \"name\": \"Lingerie\", \"textfont\": {\"color\": \"#4D5663\"}, \"type\": \"scatter\", \"uid\": \"1479d1c4-f622-4daa-829a-06f24b833dfb\", \"x\": [5837.86], \"y\": [2358580.08]}, {\"marker\": {\"color\": \"rgba(128, 177, 211, 0.5999999999999999)\", \"line\": {\"width\": 1.3}, \"opacity\": 0.8, \"size\": 12, \"symbol\": \"circle\"}, \"mode\": \"markers\", \"name\": \"MILF\", \"textfont\": {\"color\": \"#4D5663\"}, \"type\": \"scatter\", \"uid\": \"7fd67249-66a5-46fa-80ee-06c3100cac37\", \"x\": [10469.795], \"y\": [3772816.28]}, {\"marker\": {\"color\": \"rgba(255, 153, 51, 0.5999999999999999)\", \"line\": {\"width\": 1.3}, \"opacity\": 0.8, \"size\": 12, \"symbol\": \"circle\"}, \"mode\": \"markers\", \"name\": \"Massage\", \"textfont\": {\"color\": \"#4D5663\"}, \"type\": \"scatter\", \"uid\": \"bc078314-9d0c-4743-be0a-7f46c82557e1\", \"x\": [5097.69], \"y\": [1852348.485]}, {\"marker\": {\"color\": \"rgba(55, 128, 191, 0.5999999999999999)\", \"line\": {\"width\": 1.3}, \"opacity\": 0.8, \"size\": 12, \"symbol\": \"circle\"}, \"mode\": \"markers\", \"name\": \"Masturbation\", \"textfont\": {\"color\": \"#4D5663\"}, \"type\": \"scatter\", \"uid\": \"ebe74536-98f8-48c9-bf49-a9eed32edf34\", \"x\": [6109.39], \"y\": [1613985.675]}, {\"marker\": {\"color\": \"rgba(50, 171, 96, 0.5999999999999999)\", \"line\": {\"width\": 1.3}, \"opacity\": 0.8, \"size\": 12, \"symbol\": \"circle\"}, \"mode\": \"markers\", \"name\": \"Mature\", \"textfont\": {\"color\": \"#4D5663\"}, \"type\": \"scatter\", \"uid\": \"06475d34-fa16-4ef1-b396-f9b0d8b0a3c7\", \"x\": [4521.565], \"y\": [1615497.655]}, {\"marker\": {\"color\": \"rgba(128, 0, 128, 0.5999999999999999)\", \"line\": {\"width\": 1.3}, \"opacity\": 0.8, \"size\": 12, \"symbol\": \"circle\"}, \"mode\": \"markers\", \"name\": \"Orgy\", \"textfont\": {\"color\": \"#4D5663\"}, \"type\": \"scatter\", \"uid\": \"db92df05-169b-4348-94c2-4fa28eff30a8\", \"x\": [3999.135], \"y\": [1420981.08]}, {\"marker\": {\"color\": \"rgba(219, 64, 82, 0.5999999999999999)\", \"line\": {\"width\": 1.3}, \"opacity\": 0.8, \"size\": 12, \"symbol\": \"circle\"}, \"mode\": \"markers\", \"name\": \"POV\", \"textfont\": {\"color\": \"#4D5663\"}, \"type\": \"scatter\", \"uid\": \"a17425b1-8156-4443-90c7-c7651ae6ff1b\", \"x\": [12792.105], \"y\": [4622195.95]}, {\"marker\": {\"color\": \"rgba(0, 128, 128, 0.5999999999999999)\", \"line\": {\"width\": 1.3}, \"opacity\": 0.8, \"size\": 12, \"symbol\": \"circle\"}, \"mode\": \"markers\", \"name\": \"Party\", \"textfont\": {\"color\": \"#4D5663\"}, \"type\": \"scatter\", \"uid\": \"504860fd-6599-489b-83d8-bc4d74bc4b67\", \"x\": [2738.7688442211056], \"y\": [1059259.7386934673]}, {\"marker\": {\"color\": \"rgba(0, 128, 128, 0.49999999999999983)\", \"line\": {\"width\": 1.3}, \"opacity\": 0.8, \"size\": 12, \"symbol\": \"circle\"}, \"mode\": \"markers\", \"name\": \"Pissing\", \"textfont\": {\"color\": \"#4D5663\"}, \"type\": \"scatter\", \"uid\": \"325c0a82-d93f-458c-8c33-0f59d4c3ec13\", \"x\": [1766.48], \"y\": [466962.515]}, {\"marker\": {\"color\": \"rgba(255, 255, 51, 0.49999999999999983)\", \"line\": {\"width\": 1.3}, \"opacity\": 0.8, \"size\": 12, \"symbol\": \"circle\"}, \"mode\": \"markers\", \"name\": \"Public\", \"textfont\": {\"color\": \"#4D5663\"}, \"type\": \"scatter\", \"uid\": \"654555c7-19f8-493d-9c8a-01666f99b26d\", \"x\": [4449.28], \"y\": [2047576.265]}, {\"marker\": {\"color\": \"rgba(128, 128, 0, 0.49999999999999983)\", \"line\": {\"width\": 1.3}, \"opacity\": 0.8, \"size\": 12, \"symbol\": \"circle\"}, \"mode\": \"markers\", \"name\": \"Reality\", \"textfont\": {\"color\": \"#4D5663\"}, \"type\": \"scatter\", \"uid\": \"6919e04e-103b-4af8-8d72-6be2947c3df5\", \"x\": [2164.665], \"y\": [932157.075]}, {\"marker\": {\"color\": \"rgba(251, 128, 114, 0.49999999999999983)\", \"line\": {\"width\": 1.3}, \"opacity\": 0.8, \"size\": 12, \"symbol\": \"circle\"}, \"mode\": \"markers\", \"name\": \"Redhead\", \"textfont\": {\"color\": \"#4D5663\"}, \"type\": \"scatter\", \"uid\": \"98676b6b-ef03-4336-8671-ba283bf5360e\", \"x\": [4938.08], \"y\": [1980645.645]}, {\"marker\": {\"color\": \"rgba(128, 177, 211, 0.49999999999999983)\", \"line\": {\"width\": 1.3}, \"opacity\": 0.8, \"size\": 12, \"symbol\": \"circle\"}, \"mode\": \"markers\", \"name\": \"Romantic\", \"textfont\": {\"color\": \"#4D5663\"}, \"type\": \"scatter\", \"uid\": \"6bb81dcd-557b-442a-aa74-5103dc65ac19\", \"x\": [7859.705], \"y\": [2628503.465]}, {\"marker\": {\"color\": \"rgba(255, 153, 51, 0.49999999999999983)\", \"line\": {\"width\": 1.3}, \"opacity\": 0.8, \"size\": 12, \"symbol\": \"circle\"}, \"mode\": \"markers\", \"name\": \"Rough\", \"textfont\": {\"color\": \"#4D5663\"}, \"type\": \"scatter\", \"uid\": \"344c199b-bf9d-412c-8478-bb1825047fd9\", \"x\": [1697.185], \"y\": [626023.415]}, {\"marker\": {\"color\": \"rgba(55, 128, 191, 0.49999999999999983)\", \"line\": {\"width\": 1.3}, \"opacity\": 0.8, \"size\": 12, \"symbol\": \"circle\"}, \"mode\": \"markers\", \"name\": \"Solo Male\", \"textfont\": {\"color\": \"#4D5663\"}, \"type\": \"scatter\", \"uid\": \"5233ba06-3308-435a-af43-499de5de809e\", \"x\": [1047.155], \"y\": [298567.605]}, {\"marker\": {\"color\": \"rgba(50, 171, 96, 0.49999999999999983)\", \"line\": {\"width\": 1.3}, \"opacity\": 0.8, \"size\": 12, \"symbol\": \"circle\"}, \"mode\": \"markers\", \"name\": \"Squirting\", \"textfont\": {\"color\": \"#4D5663\"}, \"type\": \"scatter\", \"uid\": \"3c64e0b3-03a2-4ef7-bb0f-349ee5c8f990\", \"x\": [5596.99], \"y\": [1790648.24]}, {\"marker\": {\"color\": \"rgba(128, 0, 128, 0.49999999999999983)\", \"line\": {\"width\": 1.3}, \"opacity\": 0.8, \"size\": 12, \"symbol\": \"circle\"}, \"mode\": \"markers\", \"name\": \"Step Fantasy\", \"textfont\": {\"color\": \"#4D5663\"}, \"type\": \"scatter\", \"uid\": \"44780276-83e8-4c44-a0aa-68a08d6f7a56\", \"x\": [4121.965], \"y\": [1750955.895]}, {\"marker\": {\"color\": \"rgba(219, 64, 82, 0.49999999999999983)\", \"line\": {\"width\": 1.3}, \"opacity\": 0.8, \"size\": 12, \"symbol\": \"circle\"}, \"mode\": \"markers\", \"name\": \"Teens\", \"textfont\": {\"color\": \"#4D5663\"}, \"type\": \"scatter\", \"uid\": \"2e2e7354-6f92-4558-bab1-4ac668430f67\", \"x\": [14048.72], \"y\": [4398840.045]}, {\"marker\": {\"color\": \"rgba(219, 64, 82, 0.39999999999999974)\", \"line\": {\"width\": 1.3}, \"opacity\": 0.8, \"size\": 12, \"symbol\": \"circle\"}, \"mode\": \"markers\", \"name\": \"Threesome\", \"textfont\": {\"color\": \"#4D5663\"}, \"type\": \"scatter\", \"uid\": \"2419d019-522a-485f-822c-fa38aad7f59d\", \"x\": [7569.725], \"y\": [2895014.8]}, {\"marker\": {\"color\": \"rgba(0, 128, 128, 0.39999999999999974)\", \"line\": {\"width\": 1.3}, \"opacity\": 0.8, \"size\": 12, \"symbol\": \"circle\"}, \"mode\": \"markers\", \"name\": \"Toys\", \"textfont\": {\"color\": \"#4D5663\"}, \"type\": \"scatter\", \"uid\": \"77a40d69-89f5-4260-8813-eb6e6c082cd4\", \"x\": [6747.265], \"y\": [1979479.285]}, {\"marker\": {\"color\": \"rgba(255, 255, 51, 0.39999999999999974)\", \"line\": {\"width\": 1.3}, \"opacity\": 0.8, \"size\": 12, \"symbol\": \"circle\"}, \"mode\": \"markers\", \"name\": \"Transgender\", \"textfont\": {\"color\": \"#4D5663\"}, \"type\": \"scatter\", \"uid\": \"77e3389a-6d38-484d-8e36-bd817664c8fe\", \"x\": [2349.78], \"y\": [583375.25]}, {\"marker\": {\"color\": \"rgba(128, 128, 0, 0.39999999999999974)\", \"line\": {\"width\": 1.3}, \"opacity\": 0.8, \"size\": 12, \"symbol\": \"circle\"}, \"mode\": \"markers\", \"name\": \"Verified Amateurs\", \"textfont\": {\"color\": \"#4D5663\"}, \"type\": \"scatter\", \"uid\": \"540460a0-2fb8-414f-b4a3-162d749cf673\", \"x\": [7342.965], \"y\": [3213192.12]}, {\"marker\": {\"color\": \"rgba(251, 128, 114, 0.39999999999999974)\", \"line\": {\"width\": 1.3}, \"opacity\": 0.8, \"size\": 12, \"symbol\": \"circle\"}, \"mode\": \"markers\", \"name\": \"Vintage\", \"textfont\": {\"color\": \"#4D5663\"}, \"type\": \"scatter\", \"uid\": \"b3f1473f-5ec8-4c63-b222-4906670593fa\", \"x\": [1552.9095477386934], \"y\": [571096.3467336684]}, {\"marker\": {\"color\": \"rgba(128, 177, 211, 0.39999999999999974)\", \"line\": {\"width\": 1.3}, \"opacity\": 0.8, \"size\": 12, \"symbol\": \"circle\"}, \"mode\": \"markers\", \"name\": \"Virtual Reality\", \"textfont\": {\"color\": \"#4D5663\"}, \"type\": \"scatter\", \"uid\": \"b176a8c6-200d-43e9-ad87-65d715b0a22f\", \"x\": [2164.665], \"y\": [932156.915]}, {\"marker\": {\"color\": \"rgba(255, 153, 51, 0.39999999999999974)\", \"line\": {\"width\": 1.3}, \"opacity\": 0.8, \"size\": 12, \"symbol\": \"circle\"}, \"mode\": \"markers\", \"name\": \"Webcam\", \"textfont\": {\"color\": \"#4D5663\"}, \"type\": \"scatter\", \"uid\": \"57edfa73-61c0-48b9-bcfe-f3044f768d87\", \"x\": [4254.285], \"y\": [1085215.855]}, {\"marker\": {\"color\": \"rgba(55, 128, 191, 0.39999999999999974)\", \"line\": {\"width\": 1.3}, \"opacity\": 0.8, \"size\": 12, \"symbol\": \"circle\"}, \"mode\": \"markers\", \"name\": \"Young and Old\", \"textfont\": {\"color\": \"#4D5663\"}, \"type\": \"scatter\", \"uid\": \"c49b1678-4d8b-4b20-bdf3-a3e510584747\", \"x\": [3427.41], \"y\": [1241184.08]}],\n",
       "                        {\"legend\": {\"bgcolor\": \"#F5F6F9\", \"font\": {\"color\": \"#4D5663\"}}, \"paper_bgcolor\": \"#F5F6F9\", \"plot_bgcolor\": \"#F5F6F9\", \"title\": {\"font\": {\"color\": \"#4D5663\"}, \"text\": \"Relationship between average visitors and average votes for each category\"}, \"xaxis\": {\"gridcolor\": \"#E1E5ED\", \"showgrid\": true, \"tickfont\": {\"color\": \"#4D5663\"}, \"title\": {\"font\": {\"color\": \"#4D5663\"}, \"text\": \"Avg_votes\"}, \"zerolinecolor\": \"#E1E5ED\"}, \"yaxis\": {\"gridcolor\": \"#E1E5ED\", \"showgrid\": true, \"tickfont\": {\"color\": \"#4D5663\"}, \"title\": {\"font\": {\"color\": \"#4D5663\"}, \"text\": \"Avg_Visitors\"}, \"zerolinecolor\": \"#E1E5ED\"}},\n",
       "                        {\"showLink\": true, \"linkText\": \"Export to plot.ly\", \"plotlyServerURL\": \"https://plot.ly\", \"responsive\": true}\n",
       "                    ).then(function(){\n",
       "                            \n",
       "var gd = document.getElementById('0b019071-525b-4a44-b04e-a6d499dd3eac');\n",
       "var x = new MutationObserver(function (mutations, observer) {{\n",
       "        var display = window.getComputedStyle(gd).display;\n",
       "        if (!display || display === 'none') {{\n",
       "            console.log([gd, 'removed!']);\n",
       "            Plotly.purge(gd);\n",
       "            observer.disconnect();\n",
       "        }}\n",
       "}});\n",
       "\n",
       "// Listen for the removal of the full notebook cells\n",
       "var notebookContainer = gd.closest('#notebook-container');\n",
       "if (notebookContainer) {{\n",
       "    x.observe(notebookContainer, {childList: true});\n",
       "}}\n",
       "\n",
       "// Listen for the clearing of the current output cell\n",
       "var outputEl = gd.closest('.output');\n",
       "if (outputEl) {{\n",
       "    x.observe(outputEl, {childList: true});\n",
       "}}\n",
       "\n",
       "                        })\n",
       "                };\n",
       "                });\n",
       "            </script>\n",
       "        </div>"
      ]
     },
     "metadata": {},
     "output_type": "display_data"
    }
   ],
   "source": [
    "#Ahora miramos la relacion entre  AVG. Votes y AVG. Visitors mediante un scatter plot:\n",
    "\n",
    "results_group = results_df.groupby('Category', as_index=False).agg({'Avg_votes':'mean','Avg_Visitors':'mean'})\n",
    "\n",
    "results_group.iplot(x='Avg_votes', y='Avg_Visitors', xTitle='Avg_votes', yTitle='Avg_Visitors', categories='Category',\n",
    "           title='Relationship between average visitors and average votes for each category')"
   ]
  },
  {
   "cell_type": "markdown",
   "metadata": {},
   "source": [
    "A pesar de lo que indicaba el heat map (un color rojo muy clarito, es decir, baja relacion) el scatter plot indica claramente que ambas variables están relacionadas lineal y positivamente."
   ]
  },
  {
   "cell_type": "code",
   "execution_count": 20,
   "metadata": {},
   "outputs": [
    {
     "data": {
      "application/vnd.plotly.v1+json": {
       "config": {
        "linkText": "Export to plot.ly",
        "plotlyServerURL": "https://plot.ly",
        "showLink": true
       },
       "data": [
        {
         "marker": {
          "color": "rgba(255, 153, 51, 0.6)",
          "line": {
           "color": "rgba(255, 153, 51, 1.0)",
           "width": 1
          }
         },
         "name": "Avg_Visitors",
         "orientation": "v",
         "text": "",
         "type": "bar",
         "uid": "d7834c09-2b00-47f2-9611-71ce43ff1e9f",
         "x": [
          "Amateur",
          "Anal",
          "Arab",
          "Asian",
          "BBW",
          "Big Ass",
          "Big Dick",
          "Big Tits",
          "Bisexual Male",
          "Blonde",
          "Blowjob",
          "Bondage",
          "Brazilian",
          "Brunette",
          "Bukkake",
          "Cartoon",
          "Casting",
          "Celebrity",
          "College",
          "Compilation",
          "Cosplay",
          "Creampie",
          "Cumshot",
          "Double Penetration",
          "Ebony",
          "European",
          "Facials",
          "Feet",
          "Female Orgasm",
          "Fetish",
          "French",
          "Funny",
          "Gangbang",
          "German",
          "Group",
          "HD",
          "Hentai",
          "Indian",
          "Interracial",
          "Japanese",
          "Latina",
          "Lesbian",
          "Lingerie",
          "MILF",
          "Massage",
          "Masturbation",
          "Mature",
          "Orgy",
          "POV",
          "Party",
          "Pissing",
          "Public",
          "Reality",
          "Redhead",
          "Romantic",
          "Rough",
          "Solo Male",
          "Squirting",
          "Step Fantasy",
          "Teens",
          "Threesome",
          "Toys",
          "Transgender",
          "Verified Amateurs",
          "Vintage",
          "Virtual Reality",
          "Webcam",
          "Young and Old"
         ],
         "y": [
          3213191.455,
          3484108.995,
          928656.824120603,
          1590252.395,
          542541.655,
          5475354.975,
          5475355.32,
          5475354.26,
          298567.61,
          4374009.675,
          2793860.87,
          959119.86,
          674258.2,
          5492343.18,
          570378.06,
          869674.835,
          1257842.635,
          771291.29,
          1323611.175,
          1607708.74,
          145271.045,
          3103224.37,
          2173680.39,
          1538615.74,
          1533846.41,
          1361042.89,
          3744164.54,
          347634.29,
          1067561.65,
          1204746.09,
          489311.945,
          691005.48,
          1519530.065,
          897967.005,
          3151207.52,
          5590259.14,
          1055619.235,
          1084721.77,
          2392733.01,
          1340380.82,
          2121338.47,
          1865039.45,
          2358580.08,
          3772816.28,
          1852348.485,
          1613985.675,
          1615497.655,
          1420981.08,
          4622195.95,
          1059259.7386934673,
          466962.515,
          2047576.265,
          932157.075,
          1980645.645,
          2628503.465,
          626023.415,
          298567.605,
          1790648.24,
          1750955.895,
          4398840.045,
          2895014.8,
          1979479.285,
          583375.25,
          3213192.12,
          571096.3467336684,
          932156.915,
          1085215.855,
          1241184.08
         ]
        }
       ],
       "layout": {
        "legend": {
         "bgcolor": "#F5F6F9",
         "font": {
          "color": "#4D5663"
         }
        },
        "paper_bgcolor": "#F5F6F9",
        "plot_bgcolor": "#F5F6F9",
        "title": {
         "font": {
          "color": "#4D5663"
         },
         "text": "Average visitors per category"
        },
        "xaxis": {
         "gridcolor": "#E1E5ED",
         "showgrid": true,
         "tickfont": {
          "color": "#4D5663"
         },
         "title": {
          "font": {
           "color": "#4D5663"
          },
          "text": "Categories"
         },
         "zerolinecolor": "#E1E5ED"
        },
        "yaxis": {
         "gridcolor": "#E1E5ED",
         "showgrid": true,
         "tickfont": {
          "color": "#4D5663"
         },
         "title": {
          "font": {
           "color": "#4D5663"
          },
          "text": "Avg. Visitors"
         },
         "zerolinecolor": "#E1E5ED"
        }
       }
      },
      "text/html": [
       "<div>\n",
       "        \n",
       "        \n",
       "            <div id=\"d2b1a3c3-f0ba-4d67-9135-91edf98ca541\" class=\"plotly-graph-div\" style=\"height:525px; width:100%;\"></div>\n",
       "            <script type=\"text/javascript\">\n",
       "                require([\"plotly\"], function(Plotly) {\n",
       "                    window.PLOTLYENV=window.PLOTLYENV || {};\n",
       "                    window.PLOTLYENV.BASE_URL='https://plot.ly';\n",
       "                    \n",
       "                if (document.getElementById(\"d2b1a3c3-f0ba-4d67-9135-91edf98ca541\")) {\n",
       "                    Plotly.newPlot(\n",
       "                        'd2b1a3c3-f0ba-4d67-9135-91edf98ca541',\n",
       "                        [{\"marker\": {\"color\": \"rgba(255, 153, 51, 0.6)\", \"line\": {\"color\": \"rgba(255, 153, 51, 1.0)\", \"width\": 1}}, \"name\": \"Avg_Visitors\", \"orientation\": \"v\", \"text\": \"\", \"type\": \"bar\", \"uid\": \"d7834c09-2b00-47f2-9611-71ce43ff1e9f\", \"x\": [\"Amateur\", \"Anal\", \"Arab\", \"Asian\", \"BBW\", \"Big Ass\", \"Big Dick\", \"Big Tits\", \"Bisexual Male\", \"Blonde\", \"Blowjob\", \"Bondage\", \"Brazilian\", \"Brunette\", \"Bukkake\", \"Cartoon\", \"Casting\", \"Celebrity\", \"College\", \"Compilation\", \"Cosplay\", \"Creampie\", \"Cumshot\", \"Double Penetration\", \"Ebony\", \"European\", \"Facials\", \"Feet\", \"Female Orgasm\", \"Fetish\", \"French\", \"Funny\", \"Gangbang\", \"German\", \"Group\", \"HD\", \"Hentai\", \"Indian\", \"Interracial\", \"Japanese\", \"Latina\", \"Lesbian\", \"Lingerie\", \"MILF\", \"Massage\", \"Masturbation\", \"Mature\", \"Orgy\", \"POV\", \"Party\", \"Pissing\", \"Public\", \"Reality\", \"Redhead\", \"Romantic\", \"Rough\", \"Solo Male\", \"Squirting\", \"Step Fantasy\", \"Teens\", \"Threesome\", \"Toys\", \"Transgender\", \"Verified Amateurs\", \"Vintage\", \"Virtual Reality\", \"Webcam\", \"Young and Old\"], \"y\": [3213191.455, 3484108.995, 928656.824120603, 1590252.395, 542541.655, 5475354.975, 5475355.32, 5475354.26, 298567.61, 4374009.675, 2793860.87, 959119.86, 674258.2, 5492343.18, 570378.06, 869674.835, 1257842.635, 771291.29, 1323611.175, 1607708.74, 145271.045, 3103224.37, 2173680.39, 1538615.74, 1533846.41, 1361042.89, 3744164.54, 347634.29, 1067561.65, 1204746.09, 489311.945, 691005.48, 1519530.065, 897967.005, 3151207.52, 5590259.14, 1055619.235, 1084721.77, 2392733.01, 1340380.82, 2121338.47, 1865039.45, 2358580.08, 3772816.28, 1852348.485, 1613985.675, 1615497.655, 1420981.08, 4622195.95, 1059259.7386934673, 466962.515, 2047576.265, 932157.075, 1980645.645, 2628503.465, 626023.415, 298567.605, 1790648.24, 1750955.895, 4398840.045, 2895014.8, 1979479.285, 583375.25, 3213192.12, 571096.3467336684, 932156.915, 1085215.855, 1241184.08]}],\n",
       "                        {\"legend\": {\"bgcolor\": \"#F5F6F9\", \"font\": {\"color\": \"#4D5663\"}}, \"paper_bgcolor\": \"#F5F6F9\", \"plot_bgcolor\": \"#F5F6F9\", \"title\": {\"font\": {\"color\": \"#4D5663\"}, \"text\": \"Average visitors per category\"}, \"xaxis\": {\"gridcolor\": \"#E1E5ED\", \"showgrid\": true, \"tickfont\": {\"color\": \"#4D5663\"}, \"title\": {\"font\": {\"color\": \"#4D5663\"}, \"text\": \"Categories\"}, \"zerolinecolor\": \"#E1E5ED\"}, \"yaxis\": {\"gridcolor\": \"#E1E5ED\", \"showgrid\": true, \"tickfont\": {\"color\": \"#4D5663\"}, \"title\": {\"font\": {\"color\": \"#4D5663\"}, \"text\": \"Avg. Visitors\"}, \"zerolinecolor\": \"#E1E5ED\"}},\n",
       "                        {\"showLink\": true, \"linkText\": \"Export to plot.ly\", \"plotlyServerURL\": \"https://plot.ly\", \"responsive\": true}\n",
       "                    ).then(function(){\n",
       "                            \n",
       "var gd = document.getElementById('d2b1a3c3-f0ba-4d67-9135-91edf98ca541');\n",
       "var x = new MutationObserver(function (mutations, observer) {{\n",
       "        var display = window.getComputedStyle(gd).display;\n",
       "        if (!display || display === 'none') {{\n",
       "            console.log([gd, 'removed!']);\n",
       "            Plotly.purge(gd);\n",
       "            observer.disconnect();\n",
       "        }}\n",
       "}});\n",
       "\n",
       "// Listen for the removal of the full notebook cells\n",
       "var notebookContainer = gd.closest('#notebook-container');\n",
       "if (notebookContainer) {{\n",
       "    x.observe(notebookContainer, {childList: true});\n",
       "}}\n",
       "\n",
       "// Listen for the clearing of the current output cell\n",
       "var outputEl = gd.closest('.output');\n",
       "if (outputEl) {{\n",
       "    x.observe(outputEl, {childList: true});\n",
       "}}\n",
       "\n",
       "                        })\n",
       "                };\n",
       "                });\n",
       "            </script>\n",
       "        </div>"
      ]
     },
     "metadata": {},
     "output_type": "display_data"
    }
   ],
   "source": [
    "#Ahora visualizaremos lo importante de este data set que son la media de visualizaciones de cada categoria:\n",
    "results_group2 = results_df.groupby('Category', as_index=False).agg({'Avg_Visitors':'mean'})\n",
    "results_group2.iplot(kind='bar', x='Category', xTitle='Categories',\n",
    "           yTitle='Avg. Visitors', title='Average visitors per category')"
   ]
  },
  {
   "cell_type": "markdown",
   "metadata": {},
   "source": [
    "Vemos que hay categorias que destacan entre el resto como son HD, brunette y el trio big..."
   ]
  },
  {
   "cell_type": "code",
   "execution_count": 21,
   "metadata": {},
   "outputs": [
    {
     "data": {
      "text/plain": [
       "<matplotlib.axes._subplots.AxesSubplot at 0x7fab12e41b70>"
      ]
     },
     "execution_count": 21,
     "metadata": {},
     "output_type": "execute_result"
    },
    {
     "data": {
      "image/png": "[encoded data removed]",
      "text/plain": [
       "<Figure size 432x288 with 1 Axes>"
      ]
     },
     "metadata": {},
     "output_type": "display_data"
    }
   ],
   "source": [
    "#Finalmente, aunque no tiene mucho sentido en este dataset, crearemos un box plot\n",
    "#de una de las variables para ver como se comporta\n",
    "\n",
    "results_df.boxplot(column='Range_Visitors')"
   ]
  },
  {
   "cell_type": "markdown",
   "metadata": {},
   "source": [
    "En este grafico vemos que mientras la mayoria de categorias se mueven entre 1 y 15 millones de rango visitas (max - min). Hay varias categorias (5) que destacan con valores de alrededor de 25 millones.\n",
    "\n",
    "Esto indica que estas 5 categorias deben tener videos con muy opcas visualizaciones que hacen que el rango en el que se mueven se amplie desmesuradamente."
   ]
  },
  {
   "cell_type": "code",
   "execution_count": null,
   "metadata": {},
   "outputs": [],
   "source": []
  }
 ],
 "metadata": {
  "kernelspec": {
   "display_name": "Python 3",
   "language": "python",
   "name": "python3"
  },
  "language_info": {
   "codemirror_mode": {
    "name": "ipython",
    "version": 3
   },
   "file_extension": ".py",
   "mimetype": "text/x-python",
   "name": "python",
   "nbconvert_exporter": "python",
   "pygments_lexer": "ipython3",
   "version": "3.6.8"
  }
 },
 "nbformat": 4,
 "nbformat_minor": 2
}
